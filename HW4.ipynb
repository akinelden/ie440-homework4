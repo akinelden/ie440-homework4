{
 "cells": [
  {
   "cell_type": "markdown",
   "metadata": {},
   "source": [
    "# Homework 4"
   ]
  },
  {
   "cell_type": "markdown",
   "metadata": {},
   "source": [
    "**ÖNEMLİ:** Beyler aşağıda her bölümde yapılması gereken seyleri belirttim. Herkes tamamladığı kısımların üstünü çift tilda (\\~~) ile çizerse geriye ne kalmış anlayabiliriz. Ayrıca **OutputTable** adında bir class olusturdum, output table olusturmak icin uzun uzun yazmanıza gerek yok kullanımına BFGS kodundan bakabilirsiniz.\n",
    "\n",
    "**ÇOK ÖNEMLİ:** Beyler np.array kullanarak listten array olusturdugunuzda shape i yanlıs geliyor ve matrix gibi algılamayıp islemlerde mal oluyor. Bu yüzden array olusturdugunuzda (özellikle x0 ve grad_f icin) np.reshape kullanarak düzgün shape'i vermeyi unutmayın.\n",
    "\n",
    "Yazıyı okuyanlar isminin üstünü cizebilirse herkes okuyunca bu yazıyı silebiliriz:\n",
    "*   Sefa\n",
    "*   Yunus\n",
    "*   Harun\n",
    "*   ~~Akın~~"
   ]
  },
  {
   "cell_type": "markdown",
   "metadata": {},
   "source": [
    "### TODOs\n",
    "\n",
    "Steepest Descent:\n",
    "*   Algorithm code\n",
    "*   Function 1 - Solution set 1\n",
    "*   Function 1 - Solution set 2\n",
    "*   Function 2 - Solution set 1\n",
    "*   Function 2 - Solution set 2\n",
    "\n",
    "Newton's Method:\n",
    "*   Algorithm code\n",
    "*   Function 1 - Solution set 1\n",
    "*   Function 1 - Solution set 2\n",
    "*   Function 2 - Solution set 1\n",
    "*   Function 2 - Solution set 2\n",
    "\n",
    "DFP:\n",
    "*   Algorithm code\n",
    "*   Function 1 - Solution set 1\n",
    "*   Function 1 - Solution set 2\n",
    "*   Function 2 - Solution set 1\n",
    "*   Function 2 - Solution set 2  \n",
    "\n",
    "BFGS:\n",
    "*   ~~Algorithm code~~\n",
    "*   Function 1 - Solution set 1\n",
    "*   Function 1 - Solution set 2\n",
    "*   Function 2 - Solution set 1\n",
    "*   Function 2 - Solution set 2"
   ]
  },
  {
   "cell_type": "code",
   "execution_count": 1,
   "metadata": {},
   "outputs": [],
   "source": [
    "import pandas as pd\n",
    "import numpy as np\n",
    "from sympy import Symbol, lambdify"
   ]
  },
  {
   "cell_type": "code",
   "execution_count": 33,
   "metadata": {},
   "outputs": [],
   "source": [
    "x1 = Symbol(\"x1\")\n",
    "x2 = Symbol(\"x2\")\n",
    "\n",
    "func1 = (5*x1 - x2)**4 + (x1 - 2)**2 + x1 - 2*x2 + 12\n",
    "func2 = 100*(x2 - x1**2)**2 + (1 - x1)**2 \n",
    "\n",
    "\n",
    "f1 = lambdify([[x1,x2]], func1, \"numpy\")\n",
    "f2 = lambdify([[x1,x2]], func2, \"numpy\")\n",
    "\n",
    "gf1 = lambdify([[x1,x2]], func1.diff([[x1, x2]]), \"numpy\")\n",
    "gf2 = lambdify([[x1,x2]], func2.diff([[x1, x2]]), \"numpy\")\n",
    "\n",
    "grad_f1 = lambda x_arr : np.array(gf1(x_arr)).reshape(1,2)\n",
    "grad_f2 = lambda x_arr : np.array(gf2(x_arr)).reshape(1,2)"
   ]
  },
  {
   "cell_type": "markdown",
   "metadata": {},
   "source": [
    "### Useful Functions"
   ]
  },
  {
   "cell_type": "code",
   "execution_count": 57,
   "metadata": {},
   "outputs": [],
   "source": [
    "def np_str(x_k):\n",
    "    '''\n",
    "    Used to convert numpy array to string with determined format\n",
    "    '''\n",
    "    return np.array2string(x_k.reshape(len(x_k)), precision=3, separator=',')"
   ]
  },
  {
   "cell_type": "code",
   "execution_count": 25,
   "metadata": {},
   "outputs": [],
   "source": [
    "class OutputTable:\n",
    "    def __init__(self):\n",
    "        self.table = pd.DataFrame([],columns=['k', 'x^k', 'f(x^k)', 'd^k', 'a^k', 'x^k+1'])\n",
    "    def add_row(self, k, xk, fxk, dk, ak, xkp):\n",
    "        self.table.loc[len(self.table)] = [k, np_str(xk), fxk, np_str(dk), ak, np_str(xkp)]\n",
    "    def print_latex(self):\n",
    "        print(self.table.to_latex(index=True,float_format='%.3f'))"
   ]
  },
  {
   "cell_type": "markdown",
   "metadata": {},
   "source": [
    "### Exact Line Search"
   ]
  },
  {
   "cell_type": "code",
   "execution_count": 26,
   "metadata": {},
   "outputs": [],
   "source": [
    "def BisectionMethod(f, a=-100,b=100,epsilon=0.005) :\n",
    "    iteration=0\n",
    "    while (b - a) >= epsilon:\n",
    "        x_1 = (a + b) / 2\n",
    "        fx_1 = f(x_1)\n",
    "        if f(x_1 + epsilon) <= fx_1:\n",
    "            a = x_1\n",
    "        else:\n",
    "            b = x_1\n",
    "        iteration+=1\n",
    "    x_star = (a+b)/2\n",
    "    return x_star\n",
    "\n",
    "def ExactLineSearch(f, x0, d):\n",
    "    alpha = Symbol('alpha')\n",
    "    function_alpha = f(np.array(x0)+alpha*np.array(d))\n",
    "    f_alp = lambdify(alpha, function_alpha, 'numpy')\n",
    "    alp_star = BisectionMethod(f_alp)\n",
    "    return alp_star"
   ]
  },
  {
   "cell_type": "markdown",
   "metadata": {},
   "source": [
    "## Steepest Descent Method"
   ]
  },
  {
   "cell_type": "markdown",
   "metadata": {},
   "source": [
    "## Newton's Method"
   ]
  },
  {
   "cell_type": "markdown",
   "metadata": {},
   "source": [
    "## DFP"
   ]
  },
  {
   "cell_type": "code",
   "execution_count": 8,
   "metadata": {},
   "outputs": [],
   "source": [
    "def DFP(f, grad_f, x_0, epsilon):\n",
    "    k = 0\n",
    "    H = np.identity(len(x_0))\n",
    "    print(H)"
   ]
  },
  {
   "cell_type": "code",
   "execution_count": 10,
   "metadata": {},
   "outputs": [
    {
     "name": "stdout",
     "output_type": "stream",
     "text": [
      "[[1. 0. 0.]\n",
      " [0. 1. 0.]\n",
      " [0. 0. 1.]]\n"
     ]
    }
   ],
   "source": [
    "DFP(f1, f1, [0,2,2], 0.02)"
   ]
  },
  {
   "cell_type": "markdown",
   "metadata": {},
   "source": [
    "Akin kardesime selam olsun. 4. Katta bulusmak uzere...\n",
    "                                Sevgiler\n",
    "                                 Harun"
   ]
  },
  {
   "cell_type": "markdown",
   "metadata": {},
   "source": [
    "## BFGS"
   ]
  },
  {
   "cell_type": "code",
   "execution_count": 59,
   "metadata": {},
   "outputs": [],
   "source": [
    "def BFGS(f, grad_f, x_0, epsilon):\n",
    "    xk = np.array(x_0).reshape(2,1)\n",
    "    k = 0\n",
    "    H = np.identity(len(x_0))\n",
    "    stop = False\n",
    "    output = OutputTable()\n",
    "    while(stop == False):\n",
    "        d = -H @ np.transpose(grad_f(xk))\n",
    "        if(np.linalg.norm(d) < epsilon):\n",
    "            stop = True\n",
    "        else:\n",
    "            a = ExactLineSearch(f,xk,d)\n",
    "            xkp = xk + a*d\n",
    "            p = xkp - xk\n",
    "            q = np.transpose(grad_f(xkp)) - np.transpose(grad_f(xk))\n",
    "            A = ((1+ np.transpose(q) @ H @ q) / (np.transpose(q) @ p)) * (p @ np.transpose(p)) / (np.transpose(p) @ q)\n",
    "            B = - (p @ np.transpose(q) @ H + H @ q @ np.transpose(p)) / (np.transpose(q) @ p)\n",
    "            Hkp = H + A + B\n",
    "            output.add_row(k, xk, f(xk), d, a, xkp)\n",
    "            k += 1\n",
    "            xk = xkp\n",
    "            H = Hkp\n",
    "    output.add_row(k,xk,f(xk),d,None,np.array([]))\n",
    "    return xk, f(xk), output\n"
   ]
  },
  {
   "cell_type": "code",
   "execution_count": 60,
   "metadata": {},
   "outputs": [
    {
     "data": {
      "text/plain": [
       "(array([[ 6.49708048],\n",
       "        [33.27893106]]), array([-27.44054215]))"
      ]
     },
     "execution_count": 60,
     "metadata": {},
     "output_type": "execute_result"
    }
   ],
   "source": [
    "xs1, fs1, output1 = BFGS(f1, grad_f1, [0,0], 0.005)\n",
    "xs1, fs1"
   ]
  },
  {
   "cell_type": "code",
   "execution_count": 61,
   "metadata": {},
   "outputs": [
    {
     "data": {
      "text/html": [
       "<div>\n",
       "<style scoped>\n",
       "    .dataframe tbody tr th:only-of-type {\n",
       "        vertical-align: middle;\n",
       "    }\n",
       "\n",
       "    .dataframe tbody tr th {\n",
       "        vertical-align: top;\n",
       "    }\n",
       "\n",
       "    .dataframe thead th {\n",
       "        text-align: right;\n",
       "    }\n",
       "</style>\n",
       "<table border=\"1\" class=\"dataframe\">\n",
       "  <thead>\n",
       "    <tr style=\"text-align: right;\">\n",
       "      <th></th>\n",
       "      <th>k</th>\n",
       "      <th>x^k</th>\n",
       "      <th>f(x^k)</th>\n",
       "      <th>d^k</th>\n",
       "      <th>a^k</th>\n",
       "      <th>x^k+1</th>\n",
       "    </tr>\n",
       "  </thead>\n",
       "  <tbody>\n",
       "    <tr>\n",
       "      <th>0</th>\n",
       "      <td>0</td>\n",
       "      <td>[0,0]</td>\n",
       "      <td>[16]</td>\n",
       "      <td>[3.,2.]</td>\n",
       "      <td>0.044250</td>\n",
       "      <td>[0.133,0.089]</td>\n",
       "    </tr>\n",
       "    <tr>\n",
       "      <th>1</th>\n",
       "      <td>1</td>\n",
       "      <td>[0.133,0.089]</td>\n",
       "      <td>[15.551874561156897]</td>\n",
       "      <td>[0.963,4.868]</td>\n",
       "      <td>6.666565</td>\n",
       "      <td>[ 6.553,32.54 ]</td>\n",
       "    </tr>\n",
       "    <tr>\n",
       "      <th>2</th>\n",
       "      <td>2</td>\n",
       "      <td>[ 6.553,32.54 ]</td>\n",
       "      <td>[-25.798210950624075]</td>\n",
       "      <td>[-0.173, 2.234]</td>\n",
       "      <td>0.325012</td>\n",
       "      <td>[ 6.496,33.266]</td>\n",
       "    </tr>\n",
       "    <tr>\n",
       "      <th>3</th>\n",
       "      <td>3</td>\n",
       "      <td>[ 6.496,33.266]</td>\n",
       "      <td>[-27.44018082835035]</td>\n",
       "      <td>[-0.001, 0.014]</td>\n",
       "      <td>0.520325</td>\n",
       "      <td>[ 6.496,33.273]</td>\n",
       "    </tr>\n",
       "    <tr>\n",
       "      <th>4</th>\n",
       "      <td>4</td>\n",
       "      <td>[ 6.496,33.273]</td>\n",
       "      <td>[-27.440533671080985]</td>\n",
       "      <td>[-0.005, 0.067]</td>\n",
       "      <td>-0.001526</td>\n",
       "      <td>[ 6.496,33.273]</td>\n",
       "    </tr>\n",
       "    <tr>\n",
       "      <th>5</th>\n",
       "      <td>5</td>\n",
       "      <td>[ 6.496,33.273]</td>\n",
       "      <td>[-27.44053353252162]</td>\n",
       "      <td>[ -71.486,1029.42 ]</td>\n",
       "      <td>-0.001526</td>\n",
       "      <td>[ 6.605,31.702]</td>\n",
       "    </tr>\n",
       "    <tr>\n",
       "      <th>6</th>\n",
       "      <td>6</td>\n",
       "      <td>[ 6.605,31.702]</td>\n",
       "      <td>[-20.532424244094457]</td>\n",
       "      <td>[-0.005, 0.066]</td>\n",
       "      <td>23.838806</td>\n",
       "      <td>[ 6.497,33.279]</td>\n",
       "    </tr>\n",
       "    <tr>\n",
       "      <th>7</th>\n",
       "      <td>7</td>\n",
       "      <td>[ 6.497,33.279]</td>\n",
       "      <td>[-27.440542153747266]</td>\n",
       "      <td>[3.545e-05,1.858e-04]</td>\n",
       "      <td>NaN</td>\n",
       "      <td>[]</td>\n",
       "    </tr>\n",
       "  </tbody>\n",
       "</table>\n",
       "</div>"
      ],
      "text/plain": [
       "   k              x^k                 f(x^k)                    d^k  \\\n",
       "0  0            [0,0]                   [16]                [3.,2.]   \n",
       "1  1    [0.133,0.089]   [15.551874561156897]          [0.963,4.868]   \n",
       "2  2  [ 6.553,32.54 ]  [-25.798210950624075]        [-0.173, 2.234]   \n",
       "3  3  [ 6.496,33.266]   [-27.44018082835035]        [-0.001, 0.014]   \n",
       "4  4  [ 6.496,33.273]  [-27.440533671080985]        [-0.005, 0.067]   \n",
       "5  5  [ 6.496,33.273]   [-27.44053353252162]    [ -71.486,1029.42 ]   \n",
       "6  6  [ 6.605,31.702]  [-20.532424244094457]        [-0.005, 0.066]   \n",
       "7  7  [ 6.497,33.279]  [-27.440542153747266]  [3.545e-05,1.858e-04]   \n",
       "\n",
       "         a^k            x^k+1  \n",
       "0   0.044250    [0.133,0.089]  \n",
       "1   6.666565  [ 6.553,32.54 ]  \n",
       "2   0.325012  [ 6.496,33.266]  \n",
       "3   0.520325  [ 6.496,33.273]  \n",
       "4  -0.001526  [ 6.496,33.273]  \n",
       "5  -0.001526  [ 6.605,31.702]  \n",
       "6  23.838806  [ 6.497,33.279]  \n",
       "7        NaN               []  "
      ]
     },
     "execution_count": 61,
     "metadata": {},
     "output_type": "execute_result"
    }
   ],
   "source": [
    "output1.table"
   ]
  },
  {
   "cell_type": "code",
   "execution_count": 41,
   "metadata": {},
   "outputs": [],
   "source": [
    "from scipy.optimize import minimize"
   ]
  },
  {
   "cell_type": "code",
   "execution_count": 42,
   "metadata": {},
   "outputs": [
    {
     "data": {
      "text/plain": [
       "      fun: -27.440550788387824\n",
       " hess_inv: array([[ 0.47354836,  2.36296605],\n",
       "       [ 2.36296605, 11.92423175]])\n",
       "      jac: array([-3.86714935e-04,  7.15255737e-05])\n",
       "  message: 'Optimization terminated successfully.'\n",
       "     nfev: 64\n",
       "      nit: 11\n",
       "     njev: 16\n",
       "   status: 0\n",
       "  success: True\n",
       "        x: array([ 6.49998414, 33.29363065])"
      ]
     },
     "execution_count": 42,
     "metadata": {},
     "output_type": "execute_result"
    }
   ],
   "source": [
    "minimize(fun=f1, x0=[0,0], method='BFGS', tol=0.005)\n"
   ]
  }
 ],
 "metadata": {
  "kernelspec": {
   "display_name": "Python 3",
   "language": "python",
   "name": "python3"
  },
  "language_info": {
   "codemirror_mode": {
    "name": "ipython",
    "version": 3
   },
   "file_extension": ".py",
   "mimetype": "text/x-python",
   "name": "python",
   "nbconvert_exporter": "python",
   "pygments_lexer": "ipython3",
   "version": "3.7.1"
  }
 },
 "nbformat": 4,
 "nbformat_minor": 2
}

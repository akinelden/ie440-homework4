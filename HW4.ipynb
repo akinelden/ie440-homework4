{
 "cells": [
  {
   "cell_type": "markdown",
   "execution_count": null,
   "metadata": {},
   "outputs": [],
   "source": [
    "# Homework 4"
   ]
  },
  {
   "cell_type": "markdown",
   "execution_count": null,
   "metadata": {},
   "outputs": [],
   "source": [
    "### TODOs\n",
    "\n",
    "Steepest Descent:\n",
    "*   Algorithm code\n",
    "*   Function 1 - Solution set 1\n",
    "*   Function 1 - Solution set 2\n",
    "*   Function 2 - Solution set 1\n",
    "*   Function 2 - Solution set 2\n",
    "\n",
    "Newton's Method:\n",
    "*   Algorithm code\n",
    "*   Function 1 - Solution set 1\n",
    "*   Function 1 - Solution set 2\n",
    "*   Function 2 - Solution set 1\n",
    "*   Function 2 - Solution set 2\n",
    "\n",
    "DFP:\n",
    "*   Algorithm code\n",
    "*   Function 1 - Solution set 1\n",
    "*   Function 1 - Solution set 2\n",
    "*   Function 2 - Solution set 1\n",
    "*   Function 2 - Solution set 2  \n",
    "\n",
    "BFGS:\n",
    "*   Algorithm code\n",
    "*   Function 1 - Solution set 1\n",
    "*   Function 1 - Solution set 2\n",
    "*   Function 2 - Solution set 1\n",
    "*   Function 2 - Solution set 2"
   ]
  },
  {
   "cell_type": "code",
   "execution_count": 4,
   "metadata": {},
   "outputs": [],
   "source": [
    "import pandas as pd\n",
    "import numpy as np\n",
    "from sympy import Symbol, lambdify"
   ]
  },
  {
   "cell_type": "code",
   "execution_count": 72,
   "metadata": {},
   "outputs": [],
   "source": [
    "x1 = Symbol(\"x1\")\n",
    "x2 = Symbol(\"x2\")\n",
    "\n",
    "func1 = (5*x1 - x2)**2 + (x1 - 2)**2 + x1 - 2*x2 + 12\n",
    "func2 = 100*(x2 - x1**2) + (1 - x1**2) \n",
    "\n",
    "\n",
    "f1 = lambdify([[x1,x2]], func1, \"numpy\")\n",
    "f2 = lambdify([[x1,x2]], func2, \"numpy\")\n",
    "\n",
    "grad_f1 = lambdify([[x1,x2]], func1.diff([x1, x2]), \"numpy\")\n",
    "grad_f2 = lambdify([[x1,x2]], func2.diff([x1, x2]), \"numpy\")"
   ]
  },
  {
   "cell_type": "code",
   "execution_count": 76,
   "metadata": {},
   "outputs": [
    {
     "ename": "NameError",
     "evalue": "name 'Derivative' is not defined",
     "output_type": "error",
     "traceback": [
      "\u001b[0;31m---------------------------------------------------------------------------\u001b[0m",
      "\u001b[0;31mNameError\u001b[0m                                 Traceback (most recent call last)",
      "\u001b[0;32m<ipython-input-76-40f06d4a66ab>\u001b[0m in \u001b[0;36m<module>\u001b[0;34m\u001b[0m\n\u001b[0;32m----> 1\u001b[0;31m \u001b[0mgrad_f1\u001b[0m\u001b[0;34m(\u001b[0m\u001b[0mnp\u001b[0m\u001b[0;34m.\u001b[0m\u001b[0marray\u001b[0m\u001b[0;34m(\u001b[0m\u001b[0;34m[\u001b[0m\u001b[0;36m1\u001b[0m\u001b[0;34m,\u001b[0m\u001b[0;36m2\u001b[0m\u001b[0;34m]\u001b[0m\u001b[0;34m)\u001b[0m\u001b[0;34m)\u001b[0m\u001b[0;34m\u001b[0m\u001b[0;34m\u001b[0m\u001b[0m\n\u001b[0m",
      "\u001b[0;32m<lambdifygenerated-15>\u001b[0m in \u001b[0;36m_lambdifygenerated\u001b[0;34m(_Dummy_33)\u001b[0m\n\u001b[1;32m      3\u001b[0m     return (  # Not supported in Python:\n\u001b[1;32m      4\u001b[0m   \u001b[0;31m# Derivative\u001b[0m\u001b[0;34m\u001b[0m\u001b[0;34m\u001b[0m\u001b[0;34m\u001b[0m\u001b[0m\n\u001b[0;32m----> 5\u001b[0;31m Derivative(x1 - 2*x2 + (x1 - 2)**2 + (5*x1 - x2)**2 + 12, (x1, x2)))\n\u001b[0m",
      "\u001b[0;31mNameError\u001b[0m: name 'Derivative' is not defined"
     ]
    }
   ],
   "source": [
    "grad_f1(np.array([1,2]))"
   ]
  },
  {
   "cell_type": "markdown",
   "metadata": {},
   "source": [
    "### Exact Line Search"
   ]
  },
  {
   "cell_type": "code",
   "execution_count": 62,
   "metadata": {},
   "outputs": [],
   "source": [
    "def BisectionMethod(f, a=-100,b=100,epsilon=0.005) :\n",
    "    iteration=0\n",
    "    while (b - a) >= epsilon:\n",
    "        x_1 = (a + b) / 2\n",
    "        fx_1 = f(x_1)\n",
    "        if f(x_1 + epsilon) <= fx_1:\n",
    "            a = x_1\n",
    "        else:\n",
    "            b = x_1\n",
    "        iteration+=1\n",
    "    x_star = (a+b)/2\n",
    "    return x_star\n",
    "\n",
    "def ExactLineSearch(f, x0, d):\n",
    "    alpha = Symbol('alpha')\n",
    "    function_alpha = f(np.array(x0)+alpha*np.array(d))\n",
    "    f_alp = lambdify(alpha, function_alpha, 'numpy')\n",
    "    alp_star = BisectionMethod(f_alp)\n",
    "    return alp_star"
   ]
  },
  {
   "cell_type": "code",
   "execution_count": 8,
   "metadata": {},
   "outputs": [],
   "source": [
    "def np_str(x_k):\n",
    "    '''\n",
    "    Used to convert numpy array to string with determined format\n",
    "    '''\n",
    "    return np.array2string(x_k, precision=3, separator=',')"
   ]
  },
  {
   "cell_type": "code",
   "execution_count": 58,
   "metadata": {},
   "outputs": [],
   "source": [
    "class OutputTable:\n",
    "    def __init__(self):\n",
    "        self.table = pd.DataFrame([],columns=['k', 'x^k', 'f(x^k)', 'd^k', 'a^k', 'x^k+1'])\n",
    "    def add_row(self, k, xk, fxk, dk, ak, xkp):\n",
    "        self.table.loc[len(self.table)] = [k, np_str(xk), fxk, np_str(dk), ak, np_str(xkp)]"
   ]
  },
  {
   "cell_type": "markdown",
   "execution_count": null,
   "metadata": {},
   "outputs": [],
   "source": [
    "## Steepest Descent Method"
   ]
  },
  {
   "cell_type": "markdown",
   "execution_count": null,
   "metadata": {},
   "outputs": [],
   "source": [
    "## Newton's Method"
   ]
  },
  {
   "cell_type": "markdown",
   "execution_count": null,
   "metadata": {},
   "outputs": [],
   "source": [
    "## DFP"
   ]
  },
  {
   "cell_type": "code",
   "execution_count": 8,
   "metadata": {},
   "outputs": [],
   "source": [
    "def DFP(f, grad_f, x_0, epsilon):\n",
    "    k = 0\n",
    "    H = np.identity(len(x_0))\n",
    "    print(H)"
   ]
  },
  {
   "cell_type": "code",
   "execution_count": 10,
   "metadata": {},
   "outputs": [
    {
     "name": "stdout",
     "output_type": "stream",
     "text": [
      "[[1. 0. 0.]\n",
      " [0. 1. 0.]\n",
      " [0. 0. 1.]]\n"
     ]
    }
   ],
   "source": [
    "DFP(f1, f1, [0,2,2], 0.02)"
   ]
  },
  {
   "cell_type": "code",
   "execution_count": null,
   "metadata": {},
   "outputs": [],
   "source": [
    "Akin kardesime selam olsun. 4. Katta bulusmak uzere...\n",
    "                                Sevgiler\n",
    "                                 Harun"
   ]
  },
  {
   "cell_type": "markdown",
   "execution_count": null,
   "metadata": {},
   "outputs": [],
   "source": [
    "## BFGS"
   ]
  },
  {
   "cell_type": "code",
   "execution_count": 70,
   "metadata": {},
   "outputs": [],
   "source": [
    "def BFGS(f, grad_f, x_0, epsilon):\n",
    "    xk = np.array(x_0)\n",
    "    k = 0\n",
    "    H = np.identity(len(x_0))\n",
    "    stop = False\n",
    "    output = OutputTable()\n",
    "    while(stop == False):\n",
    "        d = -H @ np.transpose(grad_f(xk))\n",
    "        if(np.linalg.norm(d) < epsilon):\n",
    "            stop = True\n",
    "        else:\n",
    "            a = ExactLineSearch(f,xk,d)\n",
    "            xkp = xk + a*d\n",
    "            p = xkp - xk\n",
    "            q = np.transpose(grad_f(xkp)) - np.transpose(grad_f(xk))\n",
    "            A = (1+ np.transpose(q) @ H @ q) / (np.transpose(q) @ p) * (p @ np.transpose(p)) / (np.transpose(p) @ q)\n",
    "            B = - (p @ np.transpose(q) @ H + H @ q @ np.transpose(p)) / (np.transpose(q) @ p)\n",
    "            Hkp = H + A + B\n",
    "            output.add_row(k, xk, f(xk), d, a, xkp)\n",
    "            k += 1\n",
    "            xk = xkp\n",
    "            H = Hkp\n",
    "    return xk, f(xk), output.table\n"
   ]
  },
  {
   "cell_type": "code",
   "execution_count": 71,
   "metadata": {},
   "outputs": [
    {
     "ename": "NameError",
     "evalue": "name 'Derivative' is not defined",
     "output_type": "error",
     "traceback": [
      "\u001b[0;31m---------------------------------------------------------------------------\u001b[0m",
      "\u001b[0;31mNameError\u001b[0m                                 Traceback (most recent call last)",
      "\u001b[0;32m<ipython-input-71-c788600fcc9c>\u001b[0m in \u001b[0;36m<module>\u001b[0;34m\u001b[0m\n\u001b[0;32m----> 1\u001b[0;31m \u001b[0mxs1\u001b[0m\u001b[0;34m,\u001b[0m \u001b[0mfs1\u001b[0m\u001b[0;34m,\u001b[0m \u001b[0moutput1\u001b[0m \u001b[0;34m=\u001b[0m \u001b[0mBFGS\u001b[0m\u001b[0;34m(\u001b[0m\u001b[0mf1\u001b[0m\u001b[0;34m,\u001b[0m \u001b[0mgrad_f1\u001b[0m\u001b[0;34m,\u001b[0m \u001b[0;34m[\u001b[0m\u001b[0;36m0\u001b[0m\u001b[0;34m,\u001b[0m\u001b[0;36m0\u001b[0m\u001b[0;34m]\u001b[0m\u001b[0;34m,\u001b[0m \u001b[0;36m0.005\u001b[0m\u001b[0;34m)\u001b[0m\u001b[0;34m\u001b[0m\u001b[0;34m\u001b[0m\u001b[0m\n\u001b[0m",
      "\u001b[0;32m<ipython-input-70-f6bcbdd2558a>\u001b[0m in \u001b[0;36mBFGS\u001b[0;34m(f, grad_f, x_0, epsilon)\u001b[0m\n\u001b[1;32m      6\u001b[0m     \u001b[0moutput\u001b[0m \u001b[0;34m=\u001b[0m \u001b[0mOutputTable\u001b[0m\u001b[0;34m(\u001b[0m\u001b[0;34m)\u001b[0m\u001b[0;34m\u001b[0m\u001b[0;34m\u001b[0m\u001b[0m\n\u001b[1;32m      7\u001b[0m     \u001b[0;32mwhile\u001b[0m\u001b[0;34m(\u001b[0m\u001b[0mstop\u001b[0m \u001b[0;34m==\u001b[0m \u001b[0;32mFalse\u001b[0m\u001b[0;34m)\u001b[0m\u001b[0;34m:\u001b[0m\u001b[0;34m\u001b[0m\u001b[0;34m\u001b[0m\u001b[0m\n\u001b[0;32m----> 8\u001b[0;31m         \u001b[0md\u001b[0m \u001b[0;34m=\u001b[0m \u001b[0;34m-\u001b[0m\u001b[0mH\u001b[0m \u001b[0;34m@\u001b[0m \u001b[0mnp\u001b[0m\u001b[0;34m.\u001b[0m\u001b[0mtranspose\u001b[0m\u001b[0;34m(\u001b[0m\u001b[0mgrad_f\u001b[0m\u001b[0;34m(\u001b[0m\u001b[0mxk\u001b[0m\u001b[0;34m)\u001b[0m\u001b[0;34m)\u001b[0m\u001b[0;34m\u001b[0m\u001b[0;34m\u001b[0m\u001b[0m\n\u001b[0m\u001b[1;32m      9\u001b[0m         \u001b[0;32mif\u001b[0m\u001b[0;34m(\u001b[0m\u001b[0mnp\u001b[0m\u001b[0;34m.\u001b[0m\u001b[0mlinalg\u001b[0m\u001b[0;34m.\u001b[0m\u001b[0mnorm\u001b[0m\u001b[0;34m(\u001b[0m\u001b[0md\u001b[0m\u001b[0;34m)\u001b[0m \u001b[0;34m<\u001b[0m \u001b[0mepsilon\u001b[0m\u001b[0;34m)\u001b[0m\u001b[0;34m:\u001b[0m\u001b[0;34m\u001b[0m\u001b[0;34m\u001b[0m\u001b[0m\n\u001b[1;32m     10\u001b[0m             \u001b[0mstop\u001b[0m \u001b[0;34m=\u001b[0m \u001b[0;32mTrue\u001b[0m\u001b[0;34m\u001b[0m\u001b[0;34m\u001b[0m\u001b[0m\n",
      "\u001b[0;32m<lambdifygenerated-11>\u001b[0m in \u001b[0;36m_lambdifygenerated\u001b[0;34m(_Dummy_29)\u001b[0m\n\u001b[1;32m      3\u001b[0m     return (  # Not supported in Python:\n\u001b[1;32m      4\u001b[0m   \u001b[0;31m# Derivative\u001b[0m\u001b[0;34m\u001b[0m\u001b[0;34m\u001b[0m\u001b[0;34m\u001b[0m\u001b[0m\n\u001b[0;32m----> 5\u001b[0;31m Derivative(x1 - 2*x2 + (x1 - 2)**2 + (5*x1 - x2)**2 + 12, (x1, x2)))\n\u001b[0m",
      "\u001b[0;31mNameError\u001b[0m: name 'Derivative' is not defined"
     ]
    }
   ],
   "source": [
    "xs1, fs1, output1 = BFGS(f1, grad_f1, [0,0], 0.005)"
   ]
  }
 ],
 "metadata": {
  "kernelspec": {
   "display_name": "Python 3",
   "language": "python",
   "name": "python3"
  },
  "language_info": {
   "codemirror_mode": {
    "name": "ipython",
    "version": 3
   },
   "file_extension": ".py",
   "mimetype": "text/x-python",
   "name": "python",
   "nbconvert_exporter": "python",
   "pygments_lexer": "ipython3",
   "version": "3.7.4"
  }
 },
 "nbformat": 4,
 "nbformat_minor": 2
}